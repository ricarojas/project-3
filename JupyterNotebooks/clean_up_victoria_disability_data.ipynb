{
 "cells": [
  {
   "cell_type": "code",
   "execution_count": 1,
   "metadata": {},
   "outputs": [],
   "source": [
    "# Import modules required\n",
    "import pandas as pd\n",
    "from pathlib import Path  \n",
    "\n"
   ]
  },
  {
   "cell_type": "code",
   "execution_count": 2,
   "metadata": {},
   "outputs": [
    {
     "name": "stdout",
     "output_type": "stream",
     "text": [
      "   Age group (years)  Males  Females All persons  Males.1  Females.1  \\\n",
      "1                0–4    4.2      7.3        11.2      8.5        4.2   \n",
      "2               5–14   38.4     17.3        56.5     36.1       25.6   \n",
      "3              15–24   34.1     33.3        67.5     35.9       32.1   \n",
      "4              25–34   39.8     40.6        79.5     32.2       40.9   \n",
      "5              35–44   46.5     52.9       101.8     48.6       55.7   \n",
      "6              45–54   66.7     76.0       141.9     64.1       68.9   \n",
      "7              55–59   44.9     46.7        90.2     41.2       52.5   \n",
      "8              60–64   49.0     57.6       105.3     52.7       47.5   \n",
      "9              65–69   55.4     57.6       111.5     47.5       53.1   \n",
      "10             70–74   39.9     51.0        90.4     44.6       45.1   \n",
      "11             75–79   36.3     46.8        82.6     43.1       45.0   \n",
      "12             80–84   36.5     47.3        84.1     32.0       47.3   \n",
      "13             85–89   22.5     34.3        56.4     20.8       36.8   \n",
      "14       90 and over   11.1     24.8        36.0     12.1       27.6   \n",
      "15             Total  526.8    589.1     1,114.3    516.1      581.5   \n",
      "\n",
      "   All persons.1  Males.2  Females.2 All persons.2  Unnamed: 10  \n",
      "1           10.0      7.9        7.0          16.4          NaN  \n",
      "2           62.6     46.8       25.2          72.9          NaN  \n",
      "3           68.0     39.3       42.8          84.0          NaN  \n",
      "4           72.8     29.7       38.1          66.8          NaN  \n",
      "5          102.6     40.0       40.8          81.2          NaN  \n",
      "6          135.7     60.7       59.0         120.9          NaN  \n",
      "7           93.0     40.6       40.3          81.6          NaN  \n",
      "8          101.8     43.6       51.9          97.5          NaN  \n",
      "9          101.2     47.1       54.2         101.0          NaN  \n",
      "10          90.0     47.0       55.1         101.4          NaN  \n",
      "11          89.0     45.2       49.6          95.3          NaN  \n",
      "12          78.6     38.7       45.2          83.6          NaN  \n",
      "13          57.5     23.4       35.9          59.6          NaN  \n",
      "14          39.5     13.8       25.3          39.0          NaN  \n",
      "15       1,098.8    525.6      572.2       1,098.2          NaN  \n"
     ]
    },
    {
     "name": "stderr",
     "output_type": "stream",
     "text": [
      "/var/folders/08/10cxkn493m3d508zhd910xx00000gn/T/ipykernel_82454/4238974432.py:4: ParserWarning: Falling back to the 'python' engine because the 'c' engine does not support skipfooter; you can avoid this warning by specifying engine='python'.\n",
      "  df = pd.read_csv(path_to_data, skiprows=5, skipfooter=3)\n"
     ]
    }
   ],
   "source": [
    "# Setup a dataframe so that we can remove unecessary data (Headers)\n",
    "path_to_data = \"../Resources/Table_1.1-Table 1_VIC.csv\"\n",
    "# Skip the initial rows containing data that is irrelevant & same for the footer rows\n",
    "df = pd.read_csv(path_to_data, skiprows=5, skipfooter=3)\n",
    "# Overwrite df, to remove a NaN row.\n",
    "df = df[df['Males'].notna()]\n",
    "print(df)"
   ]
  },
  {
   "cell_type": "code",
   "execution_count": 3,
   "metadata": {},
   "outputs": [],
   "source": [
    "# Need to split the data based on Columns to get correct years\n",
    "# Males, Females, All persons = 2012\n",
    "df_2012 = df[['Age group (years)','Males', 'Females', 'All persons']].copy()\n",
    "# Change the index to a more meaningful one\n",
    "df_2012.set_index('Age group (years)', inplace=True, drop=True)\n",
    "df_2012['Year'] = 2012\n",
    "df_2012['State'] = 'VIC'\n",
    "\n",
    "# Males.1, Females.1, All persons.1 = 2015\n",
    "df_2015 = df[['Age group (years)','Males.1', 'Females.1', 'All persons.1']].copy()\n",
    "df_2015.rename(columns={\"Males.1\":\"Males\", \"Females.1\":\"Females\", \"All persons.1\":\"All persons\"}, inplace=True)\n",
    "# Change the index to a more meaningful one\n",
    "df_2015.set_index('Age group (years)', inplace=True, drop=True)\n",
    "df_2015['Year'] = 2015\n",
    "df_2015['State'] = 'VIC'\n",
    "\n",
    "# Males.2, Females.2, All persons.2 = 2018\n",
    "df_2018 = df[['Age group (years)','Males.2', 'Females.2', 'All persons.2']].copy()\n",
    "# Rename columns for use later.\n",
    "df_2018.rename(columns={\"Males.2\":\"Males\", \"Females.2\":\"Females\", \"All persons.2\":\"All persons\"}, inplace=True)\n",
    "# Change the index to a more meaningful one\n",
    "df_2018.set_index('Age group (years)', inplace=True, drop=True)\n",
    "# Add in the year and state\n",
    "df_2018['Year'] = 2018\n",
    "df_2018['State'] = 'VIC'\n"
   ]
  },
  {
   "cell_type": "code",
   "execution_count": 4,
   "metadata": {},
   "outputs": [],
   "source": [
    "# Stitch them back together to export as one csv. This is to contain everything in one collection vs multiple.\n",
    "frames = [df_2012, df_2015, df_2018]\n",
    "result = pd.concat(frames)\n",
    "\n",
    "# Export to a csv to be added to mongodb via the cli.\n",
    "filepath = Path('../Resources/CleanData/vic_disability_data.csv')\n",
    "result.to_csv(filepath)"
   ]
  },
  {
   "cell_type": "code",
   "execution_count": 28,
   "metadata": {},
   "outputs": [],
   "source": [
    "# Export to csv\n",
    "# filepath = Path('../Resources/CleanData/nsw_disability_2012_data.csv')  \n",
    "# df_2012.to_csv(filepath)"
   ]
  },
  {
   "cell_type": "code",
   "execution_count": 29,
   "metadata": {},
   "outputs": [],
   "source": [
    "# filepath = Path('../Resources/CleanData/nsw_disability_2015_data.csv')  \n",
    "# df_2015.to_csv(filepath)"
   ]
  },
  {
   "cell_type": "code",
   "execution_count": 30,
   "metadata": {},
   "outputs": [],
   "source": [
    "# filepath = Path('../Resources/CleanData/nsw_disability_2018_data.csv')  \n",
    "# df_2018.to_csv(filepath)"
   ]
  }
 ],
 "metadata": {
  "kernelspec": {
   "display_name": "Python 3",
   "language": "python",
   "name": "python3"
  },
  "language_info": {
   "codemirror_mode": {
    "name": "ipython",
    "version": 3
   },
   "file_extension": ".py",
   "mimetype": "text/x-python",
   "name": "python",
   "nbconvert_exporter": "python",
   "pygments_lexer": "ipython3",
   "version": "3.10.10"
  },
  "orig_nbformat": 4
 },
 "nbformat": 4,
 "nbformat_minor": 2
}
