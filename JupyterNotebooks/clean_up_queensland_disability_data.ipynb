{
 "cells": [
  {
   "cell_type": "code",
   "execution_count": 1,
   "metadata": {},
   "outputs": [],
   "source": [
    "# Import modules required\n",
    "import pandas as pd\n",
    "from pathlib import Path  \n",
    "\n"
   ]
  },
  {
   "cell_type": "code",
   "execution_count": 2,
   "metadata": {},
   "outputs": [
    {
     "name": "stdout",
     "output_type": "stream",
     "text": [
      "   Age group (years)  Males  Females  All persons  Males.1  Females.1  \\\n",
      "1                0–4    4.7      6.4          9.9      5.4        3.3   \n",
      "2               5–14   28.7     19.6         49.1     39.4       21.9   \n",
      "3              15–24   25.1     26.0         51.0     23.5       21.5   \n",
      "4              25–34   27.7     33.1         62.0     28.2       33.3   \n",
      "5              35–44   38.2     36.8         72.1     37.7       40.4   \n",
      "6              45–54   51.1     52.8        102.8     53.7       53.4   \n",
      "7              55–59   37.8     36.2         72.8     33.7       37.9   \n",
      "8              60–64   42.4     35.0         79.3     41.3       39.7   \n",
      "9              65–69   39.5     37.7         74.9     46.6       38.3   \n",
      "10             70–74   35.0     32.7         69.0     36.8       45.7   \n",
      "11             75–79   28.4     31.2         59.8     29.5       31.9   \n",
      "12             80–84   23.6     27.6         51.5     22.4       28.9   \n",
      "13             85–89   16.6     27.3         43.7     16.1       23.7   \n",
      "14       90 and over    7.2     13.0         20.1      6.4       16.2   \n",
      "15             Total  404.8    416.4        820.7    422.6      436.9   \n",
      "\n",
      "    All persons.1  Males.2  Females.2  All persons.2  Unnamed: 10  \n",
      "1            10.8      8.4        3.2           11.9          NaN  \n",
      "2            63.9     40.1       24.5           64.6          NaN  \n",
      "3            46.2     33.6       22.2           51.7          NaN  \n",
      "4            63.7     39.9       26.9           65.8          NaN  \n",
      "5            76.7     36.1       34.8           72.2          NaN  \n",
      "6           104.9     58.8       57.8          119.2          NaN  \n",
      "7            69.1     39.5       34.6           75.6          NaN  \n",
      "8            80.3     41.5       41.0           81.8          NaN  \n",
      "9            84.2     54.1       45.3           99.1          NaN  \n",
      "10           81.7     47.3       40.9           89.8          NaN  \n",
      "11           60.9     40.2       38.8           79.4          NaN  \n",
      "12           50.8     27.1       31.4           58.9          NaN  \n",
      "13           39.9     19.4       23.5           42.5          NaN  \n",
      "14           22.6      6.7       19.5           26.4          NaN  \n",
      "15          859.0    488.1      449.5          938.1          NaN  \n"
     ]
    },
    {
     "name": "stderr",
     "output_type": "stream",
     "text": [
      "/var/folders/08/10cxkn493m3d508zhd910xx00000gn/T/ipykernel_83303/1403712659.py:4: ParserWarning: Falling back to the 'python' engine because the 'c' engine does not support skipfooter; you can avoid this warning by specifying engine='python'.\n",
      "  df = pd.read_csv(path_to_data, skiprows=5, skipfooter=3)\n"
     ]
    }
   ],
   "source": [
    "# Setup a dataframe so that we can remove unecessary data (Headers)\n",
    "path_to_data = \"../Resources/Table_1.1-Table 1_QLD.csv\"\n",
    "# Skip the initial rows containing data that is irrelevant & same for the footer rows\n",
    "df = pd.read_csv(path_to_data, skiprows=5, skipfooter=3)\n",
    "# Overwrite df, to remove a NaN row.\n",
    "df = df[df['Males'].notna()]\n",
    "print(df)"
   ]
  },
  {
   "cell_type": "code",
   "execution_count": 3,
   "metadata": {},
   "outputs": [],
   "source": [
    "# Need to split the data based on Columns to get correct years\n",
    "# Males, Females, All persons = 2012\n",
    "df_2012 = df[['Age group (years)','Males', 'Females', 'All persons']].copy()\n",
    "# Change the index to a more meaningful one\n",
    "df_2012.set_index('Age group (years)', inplace=True, drop=True)\n",
    "df_2012['Year'] = 2012\n",
    "df_2012['State'] = 'QLD'\n",
    "\n",
    "# Males.1, Females.1, All persons.1 = 2015\n",
    "df_2015 = df[['Age group (years)','Males.1', 'Females.1', 'All persons.1']].copy()\n",
    "df_2015.rename(columns={\"Males.1\":\"Males\", \"Females.1\":\"Females\", \"All persons.1\":\"All persons\"}, inplace=True)\n",
    "# Change the index to a more meaningful one\n",
    "df_2015.set_index('Age group (years)', inplace=True, drop=True)\n",
    "df_2015['Year'] = 2015\n",
    "df_2015['State'] = 'QLD'\n",
    "\n",
    "# Males.2, Females.2, All persons.2 = 2018\n",
    "df_2018 = df[['Age group (years)','Males.2', 'Females.2', 'All persons.2']].copy()\n",
    "# Rename columns for use later.\n",
    "df_2018.rename(columns={\"Males.2\":\"Males\", \"Females.2\":\"Females\", \"All persons.2\":\"All persons\"}, inplace=True)\n",
    "# Change the index to a more meaningful one\n",
    "df_2018.set_index('Age group (years)', inplace=True, drop=True)\n",
    "# Add in the year and state\n",
    "df_2018['Year'] = 2018\n",
    "df_2018['State'] = 'QLD'\n"
   ]
  },
  {
   "cell_type": "code",
   "execution_count": 4,
   "metadata": {},
   "outputs": [],
   "source": [
    "# Stitch them back together to export as one csv. This is to contain everything in one collection vs multiple.\n",
    "frames = [df_2012, df_2015, df_2018]\n",
    "result = pd.concat(frames)\n",
    "\n",
    "# Export to a csv to be added to mongodb via the cli.\n",
    "filepath = Path('../Resources/CleanData/qld_disability_data.csv')\n",
    "result.to_csv(filepath)"
   ]
  },
  {
   "cell_type": "code",
   "execution_count": 28,
   "metadata": {},
   "outputs": [],
   "source": [
    "# Export to csv\n",
    "# filepath = Path('../Resources/CleanData/nsw_disability_2012_data.csv')  \n",
    "# df_2012.to_csv(filepath)"
   ]
  },
  {
   "cell_type": "code",
   "execution_count": 29,
   "metadata": {},
   "outputs": [],
   "source": [
    "# filepath = Path('../Resources/CleanData/nsw_disability_2015_data.csv')  \n",
    "# df_2015.to_csv(filepath)"
   ]
  },
  {
   "cell_type": "code",
   "execution_count": 30,
   "metadata": {},
   "outputs": [],
   "source": [
    "# filepath = Path('../Resources/CleanData/nsw_disability_2018_data.csv')  \n",
    "# df_2018.to_csv(filepath)"
   ]
  }
 ],
 "metadata": {
  "kernelspec": {
   "display_name": "Python 3",
   "language": "python",
   "name": "python3"
  },
  "language_info": {
   "codemirror_mode": {
    "name": "ipython",
    "version": 3
   },
   "file_extension": ".py",
   "mimetype": "text/x-python",
   "name": "python",
   "nbconvert_exporter": "python",
   "pygments_lexer": "ipython3",
   "version": "3.10.10"
  },
  "orig_nbformat": 4
 },
 "nbformat": 4,
 "nbformat_minor": 2
}
