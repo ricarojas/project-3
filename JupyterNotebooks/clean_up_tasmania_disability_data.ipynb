{
 "cells": [
  {
   "cell_type": "code",
   "execution_count": 1,
   "metadata": {},
   "outputs": [],
   "source": [
    "# Import modules required\n",
    "import pandas as pd\n",
    "from pathlib import Path  \n",
    "\n"
   ]
  },
  {
   "cell_type": "code",
   "execution_count": 2,
   "metadata": {},
   "outputs": [
    {
     "name": "stdout",
     "output_type": "stream",
     "text": [
      "   Age group (years)  Males  Females  All persons  Males.1  Females.1  \\\n",
      "1                0–4    2.1      1.2          2.0      0.7        1.4   \n",
      "2               5–14    4.4      3.5          7.9      5.2        2.2   \n",
      "3              15–24    3.9      3.8          7.9      5.8        2.6   \n",
      "4              25–34    3.0      4.2          7.0      5.4        3.4   \n",
      "5              35–44    4.8      5.3          9.9      4.9        5.9   \n",
      "6              45–54    8.8      8.8         16.9      8.1        7.3   \n",
      "7              55–59    5.3      5.9         11.7      5.2        5.7   \n",
      "8              60–64    7.0      5.5         12.9      5.8        7.1   \n",
      "9              65–69    6.5      6.2         12.1      6.7        7.5   \n",
      "10             70–74    5.8      4.8         11.0      6.2        5.2   \n",
      "11             75–79    5.1      5.2         10.1      5.3        5.6   \n",
      "12             80–84    3.5      4.3          7.8      3.4        4.1   \n",
      "13             85–89    2.4      3.3          5.7      1.7        4.0   \n",
      "14       90 and over    0.7      2.4          3.0      1.7        2.1   \n",
      "15             Total   62.1     63.2        125.1     67.8       63.8   \n",
      "\n",
      "    All persons.1  Males.2  Females.2  All persons.2  Unnamed: 10  \n",
      "1             2.3      0.9        1.0            0.8          NaN  \n",
      "2             7.7      5.0        2.4            8.7          NaN  \n",
      "3             8.6      5.1        3.5            9.9          NaN  \n",
      "4             8.0      1.7        4.0            5.8          NaN  \n",
      "5            10.7      1.3        7.1            7.5          NaN  \n",
      "6            15.4      8.6        7.3           18.2          NaN  \n",
      "7            11.0      6.0        5.8           13.1          NaN  \n",
      "8            13.4      7.0        5.4           13.1          NaN  \n",
      "9            14.0      9.6        7.2           16.4          NaN  \n",
      "10           11.2      7.1        8.4           15.2          NaN  \n",
      "11           10.9      6.7        5.9           12.9          NaN  \n",
      "12            7.7      4.4        4.9            9.3          NaN  \n",
      "13            5.8      2.4        3.3            5.5          NaN  \n",
      "14            3.8      1.6        3.0            4.5          NaN  \n",
      "15          131.7     70.1       70.0          140.1          NaN  \n"
     ]
    },
    {
     "name": "stderr",
     "output_type": "stream",
     "text": [
      "/var/folders/08/10cxkn493m3d508zhd910xx00000gn/T/ipykernel_87137/3933979846.py:4: ParserWarning: Falling back to the 'python' engine because the 'c' engine does not support skipfooter; you can avoid this warning by specifying engine='python'.\n",
      "  df = pd.read_csv(path_to_data, skiprows=5, skipfooter=3)\n"
     ]
    }
   ],
   "source": [
    "# Setup a dataframe so that we can remove unecessary data (Headers)\n",
    "path_to_data = \"../Resources/Table_1.1-Table 1_TAS.csv\"\n",
    "# Skip the initial rows containing data that is irrelevant & same for the footer rows\n",
    "df = pd.read_csv(path_to_data, skiprows=5, skipfooter=3)\n",
    "# Overwrite df, to remove a NaN row.\n",
    "df = df[df['Males'].notna()]\n",
    "print(df)"
   ]
  },
  {
   "cell_type": "code",
   "execution_count": 3,
   "metadata": {},
   "outputs": [],
   "source": [
    "# Need to split the data based on Columns to get correct years\n",
    "# Males, Females, All persons = 2012\n",
    "df_2012 = df[['Age group (years)','Males', 'Females', 'All persons']].copy()\n",
    "# Change the index to a more meaningful one\n",
    "df_2012.set_index('Age group (years)', inplace=True, drop=True)\n",
    "df_2012['Year'] = 2012\n",
    "df_2012['State'] = 'TAS'\n",
    "\n",
    "# Males.1, Females.1, All persons.1 = 2015\n",
    "df_2015 = df[['Age group (years)','Males.1', 'Females.1', 'All persons.1']].copy()\n",
    "df_2015.rename(columns={\"Males.1\":\"Males\", \"Females.1\":\"Females\", \"All persons.1\":\"All persons\"}, inplace=True)\n",
    "# Change the index to a more meaningful one\n",
    "df_2015.set_index('Age group (years)', inplace=True, drop=True)\n",
    "df_2015['Year'] = 2015\n",
    "df_2015['State'] = 'TAS'\n",
    "\n",
    "# Males.2, Females.2, All persons.2 = 2018\n",
    "df_2018 = df[['Age group (years)','Males.2', 'Females.2', 'All persons.2']].copy()\n",
    "# Rename columns for use later.\n",
    "df_2018.rename(columns={\"Males.2\":\"Males\", \"Females.2\":\"Females\", \"All persons.2\":\"All persons\"}, inplace=True)\n",
    "# Change the index to a more meaningful one\n",
    "df_2018.set_index('Age group (years)', inplace=True, drop=True)\n",
    "# Add in the year and state\n",
    "df_2018['Year'] = 2018\n",
    "df_2018['State'] = 'TAS'\n"
   ]
  },
  {
   "cell_type": "code",
   "execution_count": 4,
   "metadata": {},
   "outputs": [],
   "source": [
    "# Stitch them back together to export as one csv. This is to contain everything in one collection vs multiple.\n",
    "frames = [df_2012, df_2015, df_2018]\n",
    "result = pd.concat(frames)\n",
    "\n",
    "# Export to a csv to be added to mongodb via the cli.\n",
    "filepath = Path('../Resources/CleanData/tas_disability_data.csv')\n",
    "result.to_csv(filepath)"
   ]
  },
  {
   "cell_type": "code",
   "execution_count": 5,
   "metadata": {},
   "outputs": [],
   "source": [
    "# Export to csv\n",
    "# filepath = Path('../Resources/CleanData/nsw_disability_2012_data.csv')  \n",
    "# df_2012.to_csv(filepath)"
   ]
  },
  {
   "cell_type": "code",
   "execution_count": 6,
   "metadata": {},
   "outputs": [],
   "source": [
    "# filepath = Path('../Resources/CleanData/nsw_disability_2015_data.csv')  \n",
    "# df_2015.to_csv(filepath)"
   ]
  },
  {
   "cell_type": "code",
   "execution_count": 7,
   "metadata": {},
   "outputs": [],
   "source": [
    "# filepath = Path('../Resources/CleanData/nsw_disability_2018_data.csv')  \n",
    "# df_2018.to_csv(filepath)"
   ]
  }
 ],
 "metadata": {
  "kernelspec": {
   "display_name": "Python 3",
   "language": "python",
   "name": "python3"
  },
  "language_info": {
   "codemirror_mode": {
    "name": "ipython",
    "version": 3
   },
   "file_extension": ".py",
   "mimetype": "text/x-python",
   "name": "python",
   "nbconvert_exporter": "python",
   "pygments_lexer": "ipython3",
   "version": "3.10.10"
  },
  "orig_nbformat": 4
 },
 "nbformat": 4,
 "nbformat_minor": 2
}
