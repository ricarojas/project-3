{
 "cells": [
  {
   "cell_type": "code",
   "execution_count": 1,
   "metadata": {},
   "outputs": [],
   "source": [
    "# Import modules required\n",
    "import pandas as pd\n",
    "from pathlib import Path  \n",
    "\n"
   ]
  },
  {
   "cell_type": "code",
   "execution_count": 2,
   "metadata": {},
   "outputs": [
    {
     "name": "stdout",
     "output_type": "stream",
     "text": [
      "   Age group (years)  Males  Females  All persons  Males.1  Females.1  \\\n",
      "1                0–4    2.5      3.7          5.6      4.1        0.0   \n",
      "2               5–14   18.1     11.2         28.4     17.0        7.8   \n",
      "3              15–24   11.2     14.1         25.8     13.0       11.7   \n",
      "4              25–34   13.6     13.7         29.5     11.7       11.0   \n",
      "5              35–44   16.1     15.6         32.0     17.1       14.6   \n",
      "6              45–54   23.1     22.0         44.8     18.9       23.9   \n",
      "7              55–59   14.3     14.6         28.1     11.2       14.3   \n",
      "8              60–64   19.1     20.1         38.5     15.8       16.3   \n",
      "9              65–69   19.9     16.2         36.5     19.9       19.4   \n",
      "10             70–74   16.3     16.0         32.4     15.3       15.6   \n",
      "11             75–79   14.4     15.6         30.1     13.4       14.0   \n",
      "12             80–84   11.9     13.4         25.3     10.9       13.4   \n",
      "13             85–89    7.5     11.3         18.6      9.0        9.8   \n",
      "14       90 and over    3.4     10.4         13.6      3.9        9.5   \n",
      "15             Total  193.0    197.3        389.8    180.9      181.3   \n",
      "\n",
      "    All persons.1  Males.2  Females.2  All persons.2  Unnamed: 10  \n",
      "1             5.1      4.8        1.0            5.2          NaN  \n",
      "2            23.7     16.0       14.0           30.2          NaN  \n",
      "3            25.6     12.8       12.0           26.3          NaN  \n",
      "4            21.3      9.5       16.3           26.3          NaN  \n",
      "5            30.4     14.3       16.4           30.7          NaN  \n",
      "6            43.4     20.4       28.4           49.5          NaN  \n",
      "7            24.6     15.4       17.6           34.1          NaN  \n",
      "8            31.2     15.9       17.2           32.3          NaN  \n",
      "9            40.2     16.1       20.4           36.5          NaN  \n",
      "10           30.8     22.4       21.5           44.8          NaN  \n",
      "11           28.4     18.5       17.2           35.1          NaN  \n",
      "12           25.0     12.6       15.9           28.6          NaN  \n",
      "13           18.7      8.4       12.4           20.7          NaN  \n",
      "14           13.2      4.6        8.1           12.7          NaN  \n",
      "15          362.7    193.5      217.7          411.5          NaN  \n"
     ]
    },
    {
     "name": "stderr",
     "output_type": "stream",
     "text": [
      "/var/folders/08/10cxkn493m3d508zhd910xx00000gn/T/ipykernel_86631/4110122612.py:4: ParserWarning: Falling back to the 'python' engine because the 'c' engine does not support skipfooter; you can avoid this warning by specifying engine='python'.\n",
      "  df = pd.read_csv(path_to_data, skiprows=5, skipfooter=3)\n"
     ]
    }
   ],
   "source": [
    "# Setup a dataframe so that we can remove unecessary data (Headers)\n",
    "path_to_data = \"../Resources/Table_1.1-Table 1_WA.csv\"\n",
    "# Skip the initial rows containing data that is irrelevant & same for the footer rows\n",
    "df = pd.read_csv(path_to_data, skiprows=5, skipfooter=3)\n",
    "# Overwrite df, to remove a NaN row.\n",
    "df = df[df['Males'].notna()]\n",
    "print(df)"
   ]
  },
  {
   "cell_type": "code",
   "execution_count": 3,
   "metadata": {},
   "outputs": [],
   "source": [
    "# Need to split the data based on Columns to get correct years\n",
    "# Males, Females, All persons = 2012\n",
    "df_2012 = df[['Age group (years)','Males', 'Females', 'All persons']].copy()\n",
    "# Change the index to a more meaningful one\n",
    "df_2012.set_index('Age group (years)', inplace=True, drop=True)\n",
    "df_2012['Year'] = 2012\n",
    "df_2012['State'] = 'WA'\n",
    "\n",
    "# Males.1, Females.1, All persons.1 = 2015\n",
    "df_2015 = df[['Age group (years)','Males.1', 'Females.1', 'All persons.1']].copy()\n",
    "df_2015.rename(columns={\"Males.1\":\"Males\", \"Females.1\":\"Females\", \"All persons.1\":\"All persons\"}, inplace=True)\n",
    "# Change the index to a more meaningful one\n",
    "df_2015.set_index('Age group (years)', inplace=True, drop=True)\n",
    "df_2015['Year'] = 2015\n",
    "df_2015['State'] = 'WA'\n",
    "\n",
    "# Males.2, Females.2, All persons.2 = 2018\n",
    "df_2018 = df[['Age group (years)','Males.2', 'Females.2', 'All persons.2']].copy()\n",
    "# Rename columns for use later.\n",
    "df_2018.rename(columns={\"Males.2\":\"Males\", \"Females.2\":\"Females\", \"All persons.2\":\"All persons\"}, inplace=True)\n",
    "# Change the index to a more meaningful one\n",
    "df_2018.set_index('Age group (years)', inplace=True, drop=True)\n",
    "# Add in the year and state\n",
    "df_2018['Year'] = 2018\n",
    "df_2018['State'] = 'WA'\n"
   ]
  },
  {
   "cell_type": "code",
   "execution_count": 4,
   "metadata": {},
   "outputs": [],
   "source": [
    "# Stitch them back together to export as one csv. This is to contain everything in one collection vs multiple.\n",
    "frames = [df_2012, df_2015, df_2018]\n",
    "result = pd.concat(frames)\n",
    "\n",
    "# Export to a csv to be added to mongodb via the cli.\n",
    "filepath = Path('../Resources/CleanData/wa_disability_data.csv')\n",
    "result.to_csv(filepath)"
   ]
  },
  {
   "cell_type": "code",
   "execution_count": 5,
   "metadata": {},
   "outputs": [],
   "source": [
    "# Export to csv\n",
    "# filepath = Path('../Resources/CleanData/nsw_disability_2012_data.csv')  \n",
    "# df_2012.to_csv(filepath)"
   ]
  },
  {
   "cell_type": "code",
   "execution_count": 6,
   "metadata": {},
   "outputs": [],
   "source": [
    "# filepath = Path('../Resources/CleanData/nsw_disability_2015_data.csv')  \n",
    "# df_2015.to_csv(filepath)"
   ]
  },
  {
   "cell_type": "code",
   "execution_count": 7,
   "metadata": {},
   "outputs": [],
   "source": [
    "# filepath = Path('../Resources/CleanData/nsw_disability_2018_data.csv')  \n",
    "# df_2018.to_csv(filepath)"
   ]
  }
 ],
 "metadata": {
  "kernelspec": {
   "display_name": "Python 3",
   "language": "python",
   "name": "python3"
  },
  "language_info": {
   "codemirror_mode": {
    "name": "ipython",
    "version": 3
   },
   "file_extension": ".py",
   "mimetype": "text/x-python",
   "name": "python",
   "nbconvert_exporter": "python",
   "pygments_lexer": "ipython3",
   "version": "3.10.10"
  },
  "orig_nbformat": 4
 },
 "nbformat": 4,
 "nbformat_minor": 2
}
