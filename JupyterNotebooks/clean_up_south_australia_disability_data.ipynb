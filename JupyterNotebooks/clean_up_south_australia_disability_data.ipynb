{
 "cells": [
  {
   "cell_type": "code",
   "execution_count": 2,
   "metadata": {},
   "outputs": [],
   "source": [
    "# Import modules required\n",
    "import pandas as pd\n",
    "from pathlib import Path  \n",
    "\n"
   ]
  },
  {
   "cell_type": "code",
   "execution_count": 3,
   "metadata": {},
   "outputs": [
    {
     "name": "stdout",
     "output_type": "stream",
     "text": [
      "   Age group (years)  Males  Females  All persons  Males.1  Females.1  \\\n",
      "1                0–4    3.2      3.0          5.6      4.1        1.3   \n",
      "2               5–14   11.6      5.4         17.1     14.3       10.4   \n",
      "3              15–24   11.5     10.3         21.1     15.7        9.3   \n",
      "4              25–34   12.8     12.8         24.2     11.6       11.8   \n",
      "5              35–44   12.8     13.8         26.4     12.5       15.4   \n",
      "6              45–54   20.2     26.1         45.7     24.0       25.1   \n",
      "7              55–59   15.7     17.0         32.2     12.3       16.6   \n",
      "8              60–64   16.8     20.5         38.0     15.3       19.3   \n",
      "9              65–69   17.3     15.5         33.1     21.7       18.9   \n",
      "10             70–74   12.6     14.4         26.9     14.5       18.8   \n",
      "11             75–79   12.1     15.1         27.6     12.7       16.0   \n",
      "12             80–84   12.3     14.7         27.0     10.9       16.2   \n",
      "13             85–89    8.0     12.5         20.6      8.6       12.3   \n",
      "14       90 and over    3.6      8.5         12.1      3.0        9.0   \n",
      "15             Total  169.1    187.8        357.1    180.7      202.0   \n",
      "\n",
      "    All persons.1  Males.2  Females.2  All persons.2  \n",
      "1             4.7      3.3        0.0            3.3  \n",
      "2            24.4     15.3        9.2           22.6  \n",
      "3            24.3      9.4       13.4           23.8  \n",
      "4            23.0      7.7        9.3           19.1  \n",
      "5            29.4      9.3       20.9           27.2  \n",
      "6            49.3     17.3       18.4           35.8  \n",
      "7            29.8      9.3        8.5           19.5  \n",
      "8            35.7     10.3        5.8           17.8  \n",
      "9            40.1     17.4       17.9           35.3  \n",
      "10           32.8     21.7       12.9           34.6  \n",
      "11           28.7     12.8       15.2           28.1  \n",
      "12           27.2     11.9       15.6           27.4  \n",
      "13           20.9      5.0       14.1           19.2  \n",
      "14           12.0      7.0       10.5           17.4  \n",
      "15          382.7    162.9      170.9          332.5  \n"
     ]
    },
    {
     "name": "stderr",
     "output_type": "stream",
     "text": [
      "/var/folders/08/10cxkn493m3d508zhd910xx00000gn/T/ipykernel_85955/1257831168.py:4: ParserWarning: Falling back to the 'python' engine because the 'c' engine does not support skipfooter; you can avoid this warning by specifying engine='python'.\n",
      "  df = pd.read_csv(path_to_data, skiprows=5, skipfooter=3)\n"
     ]
    }
   ],
   "source": [
    "# Setup a dataframe so that we can remove unecessary data (Headers)\n",
    "path_to_data = \"../Resources/Table_1.1-Table 1_SA.csv\"\n",
    "# Skip the initial rows containing data that is irrelevant & same for the footer rows\n",
    "df = pd.read_csv(path_to_data, skiprows=5, skipfooter=3)\n",
    "# Overwrite df, to remove a NaN row.\n",
    "df = df[df['Males'].notna()]\n",
    "print(df)"
   ]
  },
  {
   "cell_type": "code",
   "execution_count": 4,
   "metadata": {},
   "outputs": [],
   "source": [
    "# Need to split the data based on Columns to get correct years\n",
    "# Males, Females, All persons = 2012\n",
    "df_2012 = df[['Age group (years)','Males', 'Females', 'All persons']].copy()\n",
    "# Change the index to a more meaningful one\n",
    "df_2012.set_index('Age group (years)', inplace=True, drop=True)\n",
    "df_2012['Year'] = 2012\n",
    "df_2012['State'] = 'SA'\n",
    "\n",
    "# Males.1, Females.1, All persons.1 = 2015\n",
    "df_2015 = df[['Age group (years)','Males.1', 'Females.1', 'All persons.1']].copy()\n",
    "df_2015.rename(columns={\"Males.1\":\"Males\", \"Females.1\":\"Females\", \"All persons.1\":\"All persons\"}, inplace=True)\n",
    "# Change the index to a more meaningful one\n",
    "df_2015.set_index('Age group (years)', inplace=True, drop=True)\n",
    "df_2015['Year'] = 2015\n",
    "df_2015['State'] = 'SA'\n",
    "\n",
    "# Males.2, Females.2, All persons.2 = 2018\n",
    "df_2018 = df[['Age group (years)','Males.2', 'Females.2', 'All persons.2']].copy()\n",
    "# Rename columns for use later.\n",
    "df_2018.rename(columns={\"Males.2\":\"Males\", \"Females.2\":\"Females\", \"All persons.2\":\"All persons\"}, inplace=True)\n",
    "# Change the index to a more meaningful one\n",
    "df_2018.set_index('Age group (years)', inplace=True, drop=True)\n",
    "# Add in the year and state\n",
    "df_2018['Year'] = 2018\n",
    "df_2018['State'] = 'SA'\n"
   ]
  },
  {
   "cell_type": "code",
   "execution_count": 5,
   "metadata": {},
   "outputs": [],
   "source": [
    "# Stitch them back together to export as one csv. This is to contain everything in one collection vs multiple.\n",
    "frames = [df_2012, df_2015, df_2018]\n",
    "result = pd.concat(frames)\n",
    "\n",
    "# Export to a csv to be added to mongodb via the cli.\n",
    "filepath = Path('../Resources/CleanData/sa_disability_data.csv')\n",
    "result.to_csv(filepath)"
   ]
  },
  {
   "cell_type": "code",
   "execution_count": 6,
   "metadata": {},
   "outputs": [],
   "source": [
    "# Export to csv\n",
    "# filepath = Path('../Resources/CleanData/nsw_disability_2012_data.csv')  \n",
    "# df_2012.to_csv(filepath)"
   ]
  },
  {
   "cell_type": "code",
   "execution_count": 7,
   "metadata": {},
   "outputs": [],
   "source": [
    "# filepath = Path('../Resources/CleanData/nsw_disability_2015_data.csv')  \n",
    "# df_2015.to_csv(filepath)"
   ]
  },
  {
   "cell_type": "code",
   "execution_count": 8,
   "metadata": {},
   "outputs": [],
   "source": [
    "# filepath = Path('../Resources/CleanData/nsw_disability_2018_data.csv')  \n",
    "# df_2018.to_csv(filepath)"
   ]
  }
 ],
 "metadata": {
  "kernelspec": {
   "display_name": "Python 3",
   "language": "python",
   "name": "python3"
  },
  "language_info": {
   "codemirror_mode": {
    "name": "ipython",
    "version": 3
   },
   "file_extension": ".py",
   "mimetype": "text/x-python",
   "name": "python",
   "nbconvert_exporter": "python",
   "pygments_lexer": "ipython3",
   "version": "3.10.10"
  },
  "orig_nbformat": 4
 },
 "nbformat": 4,
 "nbformat_minor": 2
}
