{
 "cells": [
  {
   "cell_type": "code",
   "execution_count": 6,
   "metadata": {},
   "outputs": [],
   "source": [
    "# Import modules required\n",
    "import pandas as pd\n",
    "from pathlib import Path  \n",
    "\n"
   ]
  },
  {
   "cell_type": "code",
   "execution_count": 7,
   "metadata": {},
   "outputs": [
    {
     "name": "stdout",
     "output_type": "stream",
     "text": [
      "   Age group (years)  Males  Females All persons  Males.1  Females.1  \\\n",
      "1                0–4    9.0      5.3        16.5     12.1        5.7   \n",
      "2               5–14   53.9     26.2        81.0     60.7       26.5   \n",
      "3              15–24   32.9     30.2        64.6     39.4       30.2   \n",
      "4              25–34   43.6     41.4        84.4     49.6       40.0   \n",
      "5              35–44   53.1     59.6       112.2     57.3       71.6   \n",
      "6              45–54   90.6     97.5       188.1     66.4       80.7   \n",
      "7              55–59   58.3     54.6       112.1     52.3       51.1   \n",
      "8              60–64   61.9     64.9       128.8     63.9       69.1   \n",
      "9              65–69   64.3     69.0       136.3     78.9       66.2   \n",
      "10             70–74   48.5     52.9       101.2     61.8       61.4   \n",
      "11             75–79   54.4     54.6       108.7     49.7       61.4   \n",
      "12             80–84   40.3     56.4        96.4     43.1       51.2   \n",
      "13             85–89   30.0     46.6        76.3     35.9       41.8   \n",
      "14       90 and over   13.1     31.1        43.9     11.8       36.3   \n",
      "15             Total  657.5    691.4     1,350.5    680.3      693.8   \n",
      "\n",
      "   All persons.1  Males.2  Females.2 All persons.2  Unnamed: 10  \n",
      "1           17.3     14.5        5.2          19.2          NaN  \n",
      "2           87.2     61.4       30.8          90.9          NaN  \n",
      "3           73.3     41.9       45.5          87.3          NaN  \n",
      "4           89.4     36.4       36.5          71.4          NaN  \n",
      "5          125.9     42.8       51.0          91.9          NaN  \n",
      "6          147.5     66.1       75.4         141.6          NaN  \n",
      "7          102.2     53.6       46.4         100.1          NaN  \n",
      "8          133.5     54.9       59.4         113.4          NaN  \n",
      "9          146.9     67.7       71.8         140.2          NaN  \n",
      "10         124.1     72.4       68.6         139.5          NaN  \n",
      "11         109.8     59.1       65.1         124.5          NaN  \n",
      "12          94.1     41.4       54.0          95.4          NaN  \n",
      "13          77.6     30.2       38.9          69.1          NaN  \n",
      "14          48.3     19.1       41.5          60.6          NaN  \n",
      "15       1,372.4    658.9      688.9       1,346.2          NaN  \n"
     ]
    },
    {
     "name": "stderr",
     "output_type": "stream",
     "text": [
      "/var/folders/08/10cxkn493m3d508zhd910xx00000gn/T/ipykernel_75030/1730890434.py:4: ParserWarning: Falling back to the 'python' engine because the 'c' engine does not support skipfooter; you can avoid this warning by specifying engine='python'.\n",
      "  df = pd.read_csv(path_to_data, skiprows=5, skipfooter=3)\n"
     ]
    }
   ],
   "source": [
    "# Setup a dataframe so that we can remove unecessary data (Headers)\n",
    "path_to_data = \"../Resources/Table_1.1-Table 1.csv\"\n",
    "# Skip the initial rows containing data that is irrelevant & same for the footer rows\n",
    "df = pd.read_csv(path_to_data, skiprows=5, skipfooter=3)\n",
    "# Overwrite df, to remove a NaN row.\n",
    "df = df[df['Males'].notna()]\n",
    "print(df)"
   ]
  },
  {
   "cell_type": "code",
   "execution_count": 8,
   "metadata": {},
   "outputs": [],
   "source": [
    "# Need to split the data based on Columns to get correct years.\n",
    "# Males, Females, All persons = 2012\n",
    "df_2012 = df[['Age group (years)','Males', 'Females', 'All persons']].copy()\n",
    "# Change the index to a more meaningful one\n",
    "df_2012.set_index('Age group (years)', inplace=True, drop=True)\n",
    "\n",
    "# Males.1, Females.1, All persons.1 = 2015\n",
    "df_2015 = df[['Age group (years)','Males.1', 'Females.1', 'All persons.1']].copy()\n",
    "df_2015.rename(columns={\"Males.1\":\"Males\", \"Females.1\":\"Females\", \"All persons.1\":\"All persons\"}, inplace=True)\n",
    "# Change the index to a more meaningful one\n",
    "df_2015.set_index('Age group (years)', inplace=True, drop=True)\n",
    "\n",
    "# Males.2, Females.2, All persons.2 = 2018\n",
    "df_2018 = df[['Age group (years)','Males.2', 'Females.2', 'All persons.2']].copy()\n",
    "# Rename columns for use later.\n",
    "df_2018.rename(columns={\"Males.2\":\"Males\", \"Females.2\":\"Females\", \"All persons.2\":\"All persons\"}, inplace=True)\n",
    "# Change the index to a more meaningful one\n",
    "df_2018.set_index('Age group (years)', inplace=True, drop=True)\n"
   ]
  },
  {
   "cell_type": "code",
   "execution_count": 9,
   "metadata": {},
   "outputs": [],
   "source": [
    "# Export to csv\n",
    "filepath = Path('../Resources/CleanData/nsw_disability_2012_data.csv')  \n",
    "df_2012.to_csv(filepath)"
   ]
  },
  {
   "cell_type": "code",
   "execution_count": 10,
   "metadata": {},
   "outputs": [],
   "source": [
    "filepath = Path('../Resources/CleanData/nsw_disability_2015_data.csv')  \n",
    "df_2015.to_csv(filepath)"
   ]
  },
  {
   "cell_type": "code",
   "execution_count": 11,
   "metadata": {},
   "outputs": [],
   "source": [
    "filepath = Path('../Resources/CleanData/nsw_disability_2018_data.csv')  \n",
    "df_2018.to_csv(filepath)"
   ]
  }
 ],
 "metadata": {
  "kernelspec": {
   "display_name": "Python 3",
   "language": "python",
   "name": "python3"
  },
  "language_info": {
   "codemirror_mode": {
    "name": "ipython",
    "version": 3
   },
   "file_extension": ".py",
   "mimetype": "text/x-python",
   "name": "python",
   "nbconvert_exporter": "python",
   "pygments_lexer": "ipython3",
   "version": "3.10.10"
  },
  "orig_nbformat": 4
 },
 "nbformat": 4,
 "nbformat_minor": 2
}
